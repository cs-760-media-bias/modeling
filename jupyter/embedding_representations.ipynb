{
 "cells": [
  {
   "cell_type": "code",
   "execution_count": 1,
   "metadata": {},
   "outputs": [
    {
     "name": "stdout",
     "output_type": "stream",
     "text": [
      "/Users/Matthew/Repos/modeling\n"
     ]
    }
   ],
   "source": [
    "%cd .."
   ]
  },
  {
   "cell_type": "code",
   "execution_count": 2,
   "metadata": {},
   "outputs": [],
   "source": [
    "import os"
   ]
  },
  {
   "cell_type": "code",
   "execution_count": 3,
   "metadata": {},
   "outputs": [],
   "source": [
    "from tweet2vec.tweet2vec import Doc2Vec, tokenize"
   ]
  },
  {
   "cell_type": "code",
   "execution_count": 4,
   "metadata": {},
   "outputs": [],
   "source": [
    "tweet2vec = Doc2Vec(os.path.join('tweet2vec', 'models', 'doc2vec'))"
   ]
  },
  {
   "cell_type": "code",
   "execution_count": 5,
   "metadata": {},
   "outputs": [],
   "source": [
    "import json"
   ]
  },
  {
   "cell_type": "code",
   "execution_count": 6,
   "metadata": {},
   "outputs": [],
   "source": [
    "def get_texts():\n",
    "    texts = []\n",
    "    with open('sources.json') as sources_file:\n",
    "        sources = json.load(sources_file)['sources']\n",
    "    for source in sources:\n",
    "        for handle in source['twitter_handles']:\n",
    "            in_filename = os.path.join('tweets_tidy', handle + '.json')\n",
    "            if not os.path.isfile(in_filename):\n",
    "                continue\n",
    "            with open(in_filename) as in_file:\n",
    "                tweets_json = json.load(in_file)['tweets']\n",
    "            for tweet in tweets_json:\n",
    "                text = tweet['text']\n",
    "                if len(tokenize(text)) == 0:\n",
    "                    continue\n",
    "                texts.append(text)\n",
    "    return texts"
   ]
  },
  {
   "cell_type": "code",
   "execution_count": 7,
   "metadata": {},
   "outputs": [],
   "source": [
    "texts = get_texts()"
   ]
  },
  {
   "cell_type": "code",
   "execution_count": 12,
   "metadata": {},
   "outputs": [
    {
     "data": {
      "text/plain": [
       "[\"Harvard has been defending its admissions program against charges of racial discrimination brought in federal court. But this isn't the first time Harvard’s admissions practices have sparked an important case that could affect colleges across the country. https://t.co/9q5fCjbW0d\",\n",
       " 'Consumer advocate Ralph Nader — whose great-niece, Samya Stumo, died in Sunday’s Ethiopian Airlines crash — warns against the increasing reliance on artificial intelligence in aviation. “In this case, this is a plane whose misguided software overpowered its own pilots,” he says. https://t.co/H2sjr5E1i5',\n",
       " 'JUST IN: Boeing says it “continues to have full confidence in the safety of the 737 MAX,” but supports grounding the fleet “out of an abundance of caution and in order to reassure the flying public of the aircrafts safety.” https://t.co/UA0DrsmgJY',\n",
       " \"I'm blue da ba dee da ba daa\\nDa ba dee da ba daa, da ba dee da ba daa, da ba dee da ba daa\\nDa ba dee da ba daa, da ba dee da ba daa, da ba dee da ba daa https://t.co/nPeG68xqmc\",\n",
       " 'A plane that crashed in Ethiopia was identified by its manufacturer, Boeing, as one of its newest models, a 737 Max 8. A Lion Air flight using the same model of plane went down in Indonesia in October. https://t.co/WV3OMazuAE',\n",
       " 'Captain “Sully” Sullenberger, known for landing a plane full of passengers on the Hudson, wrote an op-ed criticizing the FAA for outsourcing its inspections to Boeing employees, saying it created “conflicts of interest” and damaged credibility. https://t.co/NMADcCI3Ya',\n",
       " 'NEW: In an interview with the NYT, the assistant state\\'s attorney said that dropped charges do not mean Smollett is exonerated.\\n\\n\"Public safety is our number one priority. I don\\'t see Jussie Smollett as a threat to public safety.\" https://t.co/XhzcnrBlW8',\n",
       " '#UPDATE Flight recorder data recovered from wreckage of #Boeing737MAX planes that crashed in Ethiopia and Indonesia shows \"clear similarities,\" Addis Ababa says, as the US maker said it is finalizing a software update for its under fire anti-stall system https://t.co/P7LdWY4dq9',\n",
       " '\"The FAA has had a tombstone mentality,\" says long-time consumer advocate @RalphNader. \"It reacts after crashes. It does not anticipate and that has got to stop — but it is only going to stop when the consumers boycott that plane.\" https://t.co/kIhd9BjBSz',\n",
       " \"NASA's reviewing the business culture of Elon Musk's SpaceX, which it hired to loft astronauts into orbit, after Musk appeared on a podcast smoking pot. To be fair, they're checking Boeing, too. https://t.co/XPSCroAQBJ https://t.co/j8NxXjekF0\"]"
      ]
     },
     "execution_count": 12,
     "metadata": {},
     "output_type": "execute_result"
    }
   ],
   "source": [
    "texts.sort(key=lambda text: tweet2vec.vectorize(text)[3])\n",
    "texts[-10:]"
   ]
  },
  {
   "cell_type": "code",
   "execution_count": 13,
   "metadata": {},
   "outputs": [
    {
     "data": {
      "text/plain": [
       "['Today on C-SPAN:\\n10am &amp; noon ET – U.S. House\\n\\nC-SPAN2:\\n9:10am – @MikeBloomberg in Manchester, NH\\n10am – U.S. Senate\\n12:30pm – #Venezuela @CSIS\\n\\nC-SPAN3:\\n9:30am – @CIA Director, DNI &amp; @FBI Director testify before Senate Intel. Cmte\\n2:30pm – @USCBO Director @BudgetGOP @senatebudget https://t.co/tkqFxeD89N',\n",
       " \"Pam Northam, first lady of Virginia, handed cotton to African-American children on a tour of the governor's mansion and asked them to imagine being slaves in the fields, the mother of one of the children says. Join us tonight for Full Circle at 6:25p ET: https://t.co/dZ104lHD97 https://t.co/ikObpqYF3z\",\n",
       " \"THEN: As the Illinois Supreme Court rejects a re-sentencing request for police officer Jason Van Dyke, who murdered teenager Laquan McDonald in 2014, we'll speak with Flint Taylor &amp; Lilia Fernández about Chicago's long history of police violence. 8-9AM ET: https://t.co/Xup8cdtnFB https://t.co/OlmUp7p4Fb\",\n",
       " \"TODAY: Four black men known as the Groveland Four were granted posthumous pardons nearly 70 years after they were falsely accused of raping a white woman. We'll speak to author @Gilbert_King &amp; Carol Greenlee, the daughter of one of the men, live 8-9AM ET: https://t.co/Xup8cdtnFB https://t.co/wFcliaSLfz\",\n",
       " 'New Zealand PM: “Many of those who will have been\\xa0directly affected by the\\xa0shooting may be migrants to New\\xa0Zealand.\\xa0They may even be refugees here … They are us. The person who has perpetuated\\xa0this violence against us is not.”\\n\\nhttps://t.co/roABvN4H5c https://t.co/Wm6E1Zckh9',\n",
       " 'In New Zealand, Prime Minister Jacinda Ardern called on her country to remember the victims of the massacre at two mosques last week — not the gunman.\\n\\n\"He is a terrorist. He is a criminal. He is an extremist. But he will, when I speak, be nameless,\" she told Parliament. https://t.co/na7Wp93mTG',\n",
       " 'Birmingham resident Margaret Weinberg told us she was taken aback by @bhamcivilrights rescinding its award for Angela Davis: \"I\\'ve never equated Palestinian solidarity with anti-Semitism. To me, those are two different things, and we need to keep them two different things\" https://t.co/77xz4WxQYa',\n",
       " 'In 2016, a black man was shot dead by a white officer in Weirton, WV. Then, the dept did something almost unheard-of in America’s long and troubled history of police shootings: They fired an officer.\\n\\nJust not the one you might think.\\n\\nRead more: https://t.co/VhAfjSTt2Z',\n",
       " 'New Zealand PM Ardern: \"Many of those who will have been directly affected by the shooting may be migrants to New Zealand...they have chosen to make New Zealand their home and it is their home. They are us. The person who has perpetuated this violence against us is not.\" https://t.co/R13wr38epR',\n",
       " 'Americans elected the first:\\n\\nSomali-American to Congress\\n\\nNative American women to Congress\\n\\nMuslim women to Congress\\n\\nBlack woman to represent Conn. in Congress\\n\\nBlack woman to represent Mass. in Congress\\n\\nOut gay man to serve as governor \\n\\n#Midterms2018 https://t.co/TxwgHrB5ug']"
      ]
     },
     "execution_count": 13,
     "metadata": {},
     "output_type": "execute_result"
    }
   ],
   "source": [
    "texts.sort(key=lambda text: tweet2vec.vectorize(text)[8])\n",
    "texts[-10:]"
   ]
  },
  {
   "cell_type": "code",
   "execution_count": 14,
   "metadata": {},
   "outputs": [
    {
     "data": {
      "text/plain": [
       "['Scott Joplin, 1867-1917\\n\\nA pianist and ragtime master, he wrote “The Entertainer\" and played a major role in another American music phenomenon that emerged soon after he died. It would be called jazz. https://t.co/cjx6cBRL7H',\n",
       " \"Despite J.K. Rowling's claims, there were ultimately no scenes in the second Fantastic Beasts film that explicitly, or even vaguely, hinted at Dumbledore and Grindelwald’s past romantic relationship https://t.co/Dv294RbYKh\",\n",
       " 'W.S. Merwin, a prolific and versatile poetry master who evolved through a wide range of styles as he celebrated nature, condemned war and industrialism and reached for the elusive past, died Friday at the age of 91. https://t.co/wg2PhzxhRX',\n",
       " \"Podcast: @coldxman, a 23-year-old college student and professional musician talks w @nickgillespie abt redefining racial discourse by recovering the legacy of gay, socialist civil-rights activist Bayard Rustin and explicating @kanyewest's conservatism. https://t.co/Mxzv60f29r\",\n",
       " 'A sex and drugs scandal has engulfed South Korea’s K-pop industry after two stars were questioned by police over allegations involving date rape, bribery and explicit videos — shining light on sexual exploitation in the industry. https://t.co/vRQpMjNiDB',\n",
       " \"Edda Goering's early childhood resembled a fairy tale. She grew up in Carinhall, an estate in the countryside replete with priceless works of art and a child-sized play palace. Hitler was her godfather, and her birthday inspired national celebrations. https://t.co/D96uLMRXL8\",\n",
       " 'March is #WomensHistoryMonth, and CBS is celebrating some of our own powerful women. Here, iconic CBS correspondent @LesleyRStahl talks about how the Watergate scandal became one of the first major stories of her career. https://t.co/5W8D4oLVIA',\n",
       " 'How exactly could a film set at a sorority house that features multiple scenes of young women being brutally murdered possibly challenge the patriarchy? Hark!, skeptical reader, for there is much more in “Black Christmas” than meets the eye. https://t.co/olxBge4Sne',\n",
       " \"Here's your markets wrap ⬇️\\n🇯🇵 Japanese stocks led gains in Asia\\n🇰🇷 Korea's benchmark was weighed down by Samsung's profit warning\\n🇺🇸 U.S. technology stocks sank after Apple debuted new services\\n💷 Pound was flat\\n\\nhttps://t.co/uVpgy3qeXc\",\n",
       " 'book deal book deal book deal book deal book deal book deal book deal book deal book deal book deal book deal book deal book deal book deal book deal book deal book deal book deal book deal book deal book deal book deal book deal book deal book deal book deal book deal https://t.co/uKI9M0Y3gp']"
      ]
     },
     "execution_count": 14,
     "metadata": {},
     "output_type": "execute_result"
    }
   ],
   "source": [
    "texts.sort(key=lambda text: tweet2vec.vectorize(text)[15])\n",
    "texts[-10:]"
   ]
  },
  {
   "cell_type": "code",
   "execution_count": 15,
   "metadata": {},
   "outputs": [
    {
     "data": {
      "text/plain": [
       "['\"She looks different, she speaks different, she dresses different, and she worships different,\" he tells NBC News. \"But, luckily, she is in America, and she has a voice, and she\\'s serving the people who elected her.\" https://t.co/srXIX6ILVY (9/9) #NBCNewsThreads',\n",
       " 'Meghan McCain is not Jewish, but she is accusing a Jewish comic artist of creating “one of the most anti-semitic things” she has ever seen. Artist @elivalley joined @Intercepted to talk about why he believes her attacks prove the very point he was making. https://t.co/fQCouxh7Ou',\n",
       " '\"She looks different, she speaks different, she dresses different, and she worships different,\" he tells NBC News. \"But, luckily, she is in America, and she has a voice, and she\\'s serving the people who elected her.\" https://t.co/srXIX6ILVY (9/9) #NBCNewsThreads',\n",
       " '“You can probably tell that I want to run,” Beto O’Rourke tells Vanity Fair. “I do. I think I’d be good at it.” O’Rourke opens up about 2020, his loss to Ted Cruz, his childhood, and more. https://t.co/WhmQGZnbUg',\n",
       " '\"She looks different, she speaks different, she dresses different, and she worships different,\" he tells NBC News. \"But, luckily, she is in America, and she has a voice, and she\\'s serving the people who elected her.\" https://t.co/nYpJV2VZsq (9/9) #NBCNewsThreads',\n",
       " 'Sen. Booker: \"I just want everybody to know: I miss Obama. And I miss her husband, too ... The best advice I got in my early days was from John McCain and President Barack Obama about what it meant to be a statesperson, to put patriotism before petty personal attacks.\" https://t.co/4VKJylTxHa',\n",
       " 'Asked by @paulafaris if he has to be a \"street fighter\" to beat Pres Trump in 2020 election, Beto O\\'Rourke says \"I think you have to believe in the genius of this country.\"\\n\\n\"Take no one for granted, write no one off...it\\'s the only way I know how to run.\" https://t.co/A632Vw3Qc3 https://t.co/YckPqYsWJT',\n",
       " \"So who's realistically the frontrunner? Biden and Kamala both. His poll numbers are already pretty good, and she has positive momentum that should result in her poll numbers climbing a lot over the next year. If I were Bernie I'd be worried; his support is fierce but narrow.\",\n",
       " \"- Beto, what are you eating, man?\\n\\n- You know that song by ”The Queen” ’Another one bites the dirt?’\\n\\n- Dust. It's dust...and it's - \\n\\n- Yeah, I ate dust, too.\\n\\n- No. It’s figurative, dude. Like when -\\n\\n- I know it’s not *the* queen, dude\\n\\n-no, that’s not, I - stop eating that! https://t.co/Qos5T9o140\",\n",
       " '*Northam advocates for infanticide\\n\\nNortham: Hold my own beer\\nFairfax: Hold my beer\\nHerring: Hold my beer\\nAOC: Hold my green deal beer\\nKlobuchar: Hold my binder\\nOmar: Hold my anti-semitism\\nAOC: Hold my Amazon \\nSmollet: Hold my subway\\nKraft: Hold my rings\\nKlobuchar: Hold my comb']"
      ]
     },
     "execution_count": 15,
     "metadata": {},
     "output_type": "execute_result"
    }
   ],
   "source": [
    "texts.sort(key=lambda text: tweet2vec.vectorize(text)[17])\n",
    "texts[-10:]"
   ]
  }
 ],
 "metadata": {
  "kernelspec": {
   "display_name": "Python 3",
   "language": "python",
   "name": "python3"
  },
  "language_info": {
   "codemirror_mode": {
    "name": "ipython",
    "version": 3
   },
   "file_extension": ".py",
   "mimetype": "text/x-python",
   "name": "python",
   "nbconvert_exporter": "python",
   "pygments_lexer": "ipython3",
   "version": "3.7.3"
  }
 },
 "nbformat": 4,
 "nbformat_minor": 2
}
