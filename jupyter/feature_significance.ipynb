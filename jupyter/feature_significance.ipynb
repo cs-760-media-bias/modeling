{
 "cells": [
  {
   "cell_type": "code",
   "execution_count": 1,
   "metadata": {},
   "outputs": [
    {
     "name": "stdout",
     "output_type": "stream",
     "text": [
      "/Users/Matthew/Repos/modeling\n"
     ]
    }
   ],
   "source": [
    "%cd .."
   ]
  },
  {
   "cell_type": "code",
   "execution_count": 2,
   "metadata": {},
   "outputs": [],
   "source": [
    "import utility"
   ]
  },
  {
   "cell_type": "code",
   "execution_count": 3,
   "metadata": {},
   "outputs": [
    {
     "name": "stdout",
     "output_type": "stream",
     "text": [
      "Loading data...\n",
      "Standardizing data...\n"
     ]
    }
   ],
   "source": [
    "X_train, X_test, y_train, y_test = utility.load()\n",
    "X_train, X_test = utility.standardize(X_train, X_test)"
   ]
  },
  {
   "cell_type": "code",
   "execution_count": 4,
   "metadata": {},
   "outputs": [],
   "source": [
    "import numpy"
   ]
  },
  {
   "cell_type": "code",
   "execution_count": 5,
   "metadata": {},
   "outputs": [
    {
     "data": {
      "text/plain": [
       "['description_length',\n",
       " 'days_since_creation',\n",
       " 'followers_count',\n",
       " 'friends_count',\n",
       " 'listed_count',\n",
       " 'statuses_count',\n",
       " 'hours_since_post',\n",
       " 'hour_in_day',\n",
       " 'day_in_week',\n",
       " 'text_length',\n",
       " 'hashtag_count',\n",
       " 'user_mention_count',\n",
       " 'url_count',\n",
       " 'historical_retweet_count',\n",
       " 'historical_favorite_count',\n",
       " 'photo_count',\n",
       " 'video_count',\n",
       " 'is_reply',\n",
       " 'tweet_embedding_0',\n",
       " 'tweet_embedding_1',\n",
       " 'tweet_embedding_2',\n",
       " 'tweet_embedding_3',\n",
       " 'tweet_embedding_4',\n",
       " 'tweet_embedding_5',\n",
       " 'tweet_embedding_6',\n",
       " 'tweet_embedding_7',\n",
       " 'tweet_embedding_8',\n",
       " 'tweet_embedding_9',\n",
       " 'tweet_embedding_10',\n",
       " 'tweet_embedding_11',\n",
       " 'tweet_embedding_12',\n",
       " 'tweet_embedding_13',\n",
       " 'tweet_embedding_14',\n",
       " 'tweet_embedding_15',\n",
       " 'tweet_embedding_16',\n",
       " 'tweet_embedding_17',\n",
       " 'tweet_embedding_18',\n",
       " 'tweet_embedding_19']"
      ]
     },
     "execution_count": 5,
     "metadata": {},
     "output_type": "execute_result"
    }
   ],
   "source": [
    "features = [\n",
    "    'description_length',\n",
    "    'days_since_creation',\n",
    "    'followers_count',\n",
    "    'friends_count',\n",
    "    'listed_count',\n",
    "    'statuses_count',\n",
    "    'hours_since_post',\n",
    "    'hour_in_day',\n",
    "    'day_in_week',\n",
    "    'text_length',\n",
    "    'hashtag_count',\n",
    "    'user_mention_count',\n",
    "    'url_count',\n",
    "    'historical_retweet_count',\n",
    "    'historical_favorite_count',\n",
    "    'photo_count',\n",
    "    'video_count',\n",
    "    'is_reply']\n",
    "m = len(features)\n",
    "for i in range(numpy.size(X_train, 1)):\n",
    "    if i >= m:\n",
    "        features.append('tweet_embedding_' + str(i - m))\n",
    "features"
   ]
  },
  {
   "cell_type": "code",
   "execution_count": 6,
   "metadata": {},
   "outputs": [],
   "source": [
    "from sklearn.linear_model import Lasso"
   ]
  },
  {
   "cell_type": "code",
   "execution_count": 7,
   "metadata": {},
   "outputs": [
    {
     "data": {
      "text/plain": [
       "array([ 0.00000000e+00,  0.00000000e+00,  1.97567592e+01,  0.00000000e+00,\n",
       "        0.00000000e+00, -0.00000000e+00,  0.00000000e+00, -0.00000000e+00,\n",
       "        0.00000000e+00,  1.34077995e+01,  0.00000000e+00, -8.18678590e+00,\n",
       "        0.00000000e+00,  0.00000000e+00,  1.39867284e+02,  0.00000000e+00,\n",
       "        4.86757320e+01, -0.00000000e+00, -0.00000000e+00, -0.00000000e+00,\n",
       "        0.00000000e+00, -9.12359285e-01, -0.00000000e+00,  0.00000000e+00,\n",
       "       -0.00000000e+00, -0.00000000e+00,  2.85651795e+00,  0.00000000e+00,\n",
       "       -0.00000000e+00, -0.00000000e+00,  0.00000000e+00, -0.00000000e+00,\n",
       "       -0.00000000e+00, -2.13647983e+00, -0.00000000e+00,  5.87948765e-02,\n",
       "        0.00000000e+00,  0.00000000e+00])"
      ]
     },
     "execution_count": 7,
     "metadata": {},
     "output_type": "execute_result"
    }
   ],
   "source": [
    "lasso = Lasso(alpha=10.0)\n",
    "lasso.fit(X_train, y_train)\n",
    "lasso.coef_"
   ]
  },
  {
   "cell_type": "code",
   "execution_count": 8,
   "metadata": {},
   "outputs": [
    {
     "data": {
      "text/plain": [
       "array([['description_length', '0.0'],\n",
       "       ['days_since_creation', '0.0'],\n",
       "       ['followers_count', '19.756759162373562'],\n",
       "       ['friends_count', '0.0'],\n",
       "       ['listed_count', '0.0'],\n",
       "       ['statuses_count', '-0.0'],\n",
       "       ['hours_since_post', '0.0'],\n",
       "       ['hour_in_day', '-0.0'],\n",
       "       ['day_in_week', '0.0'],\n",
       "       ['text_length', '13.407799474488582'],\n",
       "       ['hashtag_count', '0.0'],\n",
       "       ['user_mention_count', '-8.186785899699021'],\n",
       "       ['url_count', '0.0'],\n",
       "       ['historical_retweet_count', '0.0'],\n",
       "       ['historical_favorite_count', '139.86728362483552'],\n",
       "       ['photo_count', '0.0'],\n",
       "       ['video_count', '48.675732017311745'],\n",
       "       ['is_reply', '-0.0'],\n",
       "       ['tweet_embedding_0', '-0.0'],\n",
       "       ['tweet_embedding_1', '-0.0'],\n",
       "       ['tweet_embedding_2', '0.0'],\n",
       "       ['tweet_embedding_3', '-0.9123592849011425'],\n",
       "       ['tweet_embedding_4', '-0.0'],\n",
       "       ['tweet_embedding_5', '0.0'],\n",
       "       ['tweet_embedding_6', '-0.0'],\n",
       "       ['tweet_embedding_7', '-0.0'],\n",
       "       ['tweet_embedding_8', '2.8565179495613573'],\n",
       "       ['tweet_embedding_9', '0.0'],\n",
       "       ['tweet_embedding_10', '-0.0'],\n",
       "       ['tweet_embedding_11', '-0.0'],\n",
       "       ['tweet_embedding_12', '0.0'],\n",
       "       ['tweet_embedding_13', '-0.0'],\n",
       "       ['tweet_embedding_14', '-0.0'],\n",
       "       ['tweet_embedding_15', '-2.1364798285960904'],\n",
       "       ['tweet_embedding_16', '-0.0'],\n",
       "       ['tweet_embedding_17', '0.058794876454739374'],\n",
       "       ['tweet_embedding_18', '0.0'],\n",
       "       ['tweet_embedding_19', '0.0']], dtype='<U32')"
      ]
     },
     "execution_count": 8,
     "metadata": {},
     "output_type": "execute_result"
    }
   ],
   "source": [
    "numpy.array([features, lasso.coef_]).T"
   ]
  },
  {
   "cell_type": "code",
   "execution_count": 9,
   "metadata": {},
   "outputs": [],
   "source": [
    "from sklearn.linear_model import LinearRegression"
   ]
  },
  {
   "cell_type": "code",
   "execution_count": 10,
   "metadata": {},
   "outputs": [
    {
     "data": {
      "text/plain": [
       "array([ -0.65010124,   2.91446604,  45.89432263,   4.12904822,\n",
       "       -16.5966958 ,  -8.74190345,   2.35626555,  -2.24742597,\n",
       "         2.3849667 ,  23.40996958,   1.93666217, -20.33968536,\n",
       "         0.28573964,   5.15000322, 139.27559587,   0.27607519,\n",
       "        57.08343707,  -6.61478165,  -0.34259731,  -4.74954312,\n",
       "         2.95790844,  -9.29172597,  -2.53259532,   8.01327426,\n",
       "         0.86737304,  -1.75686079,   6.43663157,   3.23658723,\n",
       "        -2.34767684,  -4.74392732,   4.26449816,   1.90708862,\n",
       "        -6.69813231, -13.0202252 ,  -8.29568879,  10.73781037,\n",
       "         2.73356061,   1.07415393])"
      ]
     },
     "execution_count": 10,
     "metadata": {},
     "output_type": "execute_result"
    }
   ],
   "source": [
    "ols = LinearRegression()\n",
    "ols.fit(X_train, y_train)\n",
    "ols.coef_"
   ]
  },
  {
   "cell_type": "code",
   "execution_count": 11,
   "metadata": {},
   "outputs": [
    {
     "data": {
      "text/plain": [
       "array([['description_length', '-0.6501012440631971'],\n",
       "       ['days_since_creation', '2.9144660435215854'],\n",
       "       ['followers_count', '45.894322631789976'],\n",
       "       ['friends_count', '4.129048223837616'],\n",
       "       ['listed_count', '-16.596695797112083'],\n",
       "       ['statuses_count', '-8.74190345448947'],\n",
       "       ['hours_since_post', '2.3562655486861344'],\n",
       "       ['hour_in_day', '-2.247425973824878'],\n",
       "       ['day_in_week', '2.384966699071735'],\n",
       "       ['text_length', '23.409969582868765'],\n",
       "       ['hashtag_count', '1.9366621699291382'],\n",
       "       ['user_mention_count', '-20.33968535510177'],\n",
       "       ['url_count', '0.2857396421028449'],\n",
       "       ['historical_retweet_count', '5.150003215211564'],\n",
       "       ['historical_favorite_count', '139.27559586751818'],\n",
       "       ['photo_count', '0.2760751910369036'],\n",
       "       ['video_count', '57.08343706860956'],\n",
       "       ['is_reply', '-6.614781648494132'],\n",
       "       ['tweet_embedding_0', '-0.3425973102370914'],\n",
       "       ['tweet_embedding_1', '-4.749543117395803'],\n",
       "       ['tweet_embedding_2', '2.9579084356398817'],\n",
       "       ['tweet_embedding_3', '-9.291725971760155'],\n",
       "       ['tweet_embedding_4', '-2.5325953241481622'],\n",
       "       ['tweet_embedding_5', '8.013274255584129'],\n",
       "       ['tweet_embedding_6', '0.8673730406539623'],\n",
       "       ['tweet_embedding_7', '-1.7568607924116697'],\n",
       "       ['tweet_embedding_8', '6.4366315684482585'],\n",
       "       ['tweet_embedding_9', '3.236587229323667'],\n",
       "       ['tweet_embedding_10', '-2.347676840001296'],\n",
       "       ['tweet_embedding_11', '-4.743927323808894'],\n",
       "       ['tweet_embedding_12', '4.264498159397947'],\n",
       "       ['tweet_embedding_13', '1.9070886179057904'],\n",
       "       ['tweet_embedding_14', '-6.6981323055930435'],\n",
       "       ['tweet_embedding_15', '-13.020225196930891'],\n",
       "       ['tweet_embedding_16', '-8.295688792787795'],\n",
       "       ['tweet_embedding_17', '10.737810373446058'],\n",
       "       ['tweet_embedding_18', '2.733560613101629'],\n",
       "       ['tweet_embedding_19', '1.0741539325118608']], dtype='<U32')"
      ]
     },
     "execution_count": 11,
     "metadata": {},
     "output_type": "execute_result"
    }
   ],
   "source": [
    "numpy.array([features, ols.coef_]).T"
   ]
  }
 ],
 "metadata": {
  "kernelspec": {
   "display_name": "Python 3",
   "language": "python",
   "name": "python3"
  },
  "language_info": {
   "codemirror_mode": {
    "name": "ipython",
    "version": 3
   },
   "file_extension": ".py",
   "mimetype": "text/x-python",
   "name": "python",
   "nbconvert_exporter": "python",
   "pygments_lexer": "ipython3",
   "version": "3.7.3"
  }
 },
 "nbformat": 4,
 "nbformat_minor": 2
}
